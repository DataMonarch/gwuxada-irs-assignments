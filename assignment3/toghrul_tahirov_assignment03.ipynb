{
 "cells": [
  {
   "cell_type": "code",
   "execution_count": 1,
   "metadata": {},
   "outputs": [],
   "source": [
    "import numpy as np, collections, math"
   ]
  },
  {
   "cell_type": "code",
   "execution_count": 2,
   "metadata": {},
   "outputs": [
    {
     "name": "stdout",
     "output_type": "stream",
     "text": [
      "Probability of the word computer: 0.26666666666666666\n",
      "Probability of the word math: 0.26666666666666666\n",
      "Probability of the word science: 0.1\n",
      "Probability of the word physics: 0.26666666666666666\n",
      "Probability of the word biology: 0.1\n"
     ]
    }
   ],
   "source": [
    "# Define the documents\n",
    "corpus = [\"computer computer math computer computer science\",\n",
    "            \"physics physics math math physics computer math\",\n",
    "            \"physics math biology math science science biology computer biology\",\n",
    "            \"physics  physics  physics  physics math  computer math computer\"]\n",
    "\n",
    "\n",
    "documents = [d.split() for d in corpus]\n",
    "corpus_joined = \" \".join(corpus).split()\n",
    "total_words = len(corpus_joined)\n",
    "\n",
    "# Calculate the probabilities of each word occurring\n",
    "word_counts = collections.Counter(corpus_joined)\n",
    "\n",
    "for key, val in word_counts.items():\n",
    "    print(f'Probability of the word {key}: {val / total_words}')\n"
   ]
  },
  {
   "cell_type": "code",
   "execution_count": 45,
   "metadata": {},
   "outputs": [
    {
     "name": "stdout",
     "output_type": "stream",
     "text": [
      "Probability of the word computer occurring in a document: 1.0\n",
      "Probability of the word math occurring in a document: 1.0\n",
      "Probability of the word science occurring in a document: 0.5\n",
      "Probability of the word physics occurring in a document: 0.75\n",
      "Probability of the word biology occurring in a document: 0.25\n"
     ]
    }
   ],
   "source": [
    "# Define the documents\n",
    "corpus = [\"computer computer math computer computer science\",\n",
    "            \"physics physics math math physics computer math\",\n",
    "            \"physics math biology math science science biology computer biology\",\n",
    "            \"physics  physics  physics  physics math  computer math computer\"]\n",
    "\n",
    "\n",
    "unique_in_documents = np.hstack([np.unique(d.split()) for d in corpus])\n",
    "\n",
    "total_words = len(unique_in_documents)\n",
    "\n",
    "# Calculate the probabilities of each word occurring\n",
    "word_counts = collections.Counter(unique_in_documents)\n",
    "proba_occurrence_in_doc = {key: val / len(corpus) for key, val in word_counts.items()}\n",
    "\n",
    "for key, val in proba_occurrence_in_doc.items():\n",
    "    print(f'Probability of the word {key} occurring in a document: {val}')"
   ]
  },
  {
   "cell_type": "code",
   "execution_count": 3,
   "metadata": {},
   "outputs": [
    {
     "name": "stdout",
     "output_type": "stream",
     "text": [
      "Information value (IDF) of the word computer: 1.9068905956085185\n",
      "Information value (IDF) of the word math: 1.9068905956085185\n",
      "Information value (IDF) of the word science: 3.321928094887362\n",
      "Information value (IDF) of the word physics: 1.9068905956085185\n",
      "Information value (IDF) of the word biology: 3.321928094887362\n",
      "Average information value of the whole corpus: 2.1898980954642875\n"
     ]
    }
   ],
   "source": [
    "# Define the documents\n",
    "corpus = [\"computer computer math computer computer science\",\n",
    "            \"physics physics math math physics computer math\",\n",
    "            \"physics math biology math science science biology computer biology\",\n",
    "            \"physics  physics  physics  physics math  computer math computer\"]\n",
    "\n",
    "\n",
    "documents = [d.split() for d in corpus]\n",
    "corpus_joined = \" \".join(corpus).split()\n",
    "total_words = len(corpus_joined)\n",
    "\n",
    "# Calculate the probabilities of each word occurring\n",
    "word_counts = collections.Counter(corpus_joined)\n",
    "word_proba = {key: val / total_words for key, val in word_counts.items()}\n",
    "\n",
    "\n",
    "words_idf = {key: -np.log2(val) for key, val in word_proba.items()}\n",
    "\n",
    "for key, val in words_idf.items():\n",
    "    print(f'Information value (IDF) of the word {key}: {val }')\n",
    "    \n",
    "avg_info = 0\n",
    "\n",
    "for key, val in words_idf.items():\n",
    "    avg_info += val * word_proba[key]\n",
    "    \n",
    "print(\"Average information value of the whole corpus:\", avg_info)"
   ]
  },
  {
   "cell_type": "code",
   "execution_count": 6,
   "metadata": {},
   "outputs": [
    {
     "name": "stdout",
     "output_type": "stream",
     "text": [
      "Information value (IDF) of the word computer (equal probas | real probas): 2.321928094887362 | 1.9068905956085185\n",
      "Information value (IDF) of the word math (equal probas | real probas): 2.321928094887362 | 1.9068905956085185\n",
      "Information value (IDF) of the word science (equal probas | real probas): 2.321928094887362 | 3.321928094887362\n",
      "Information value (IDF) of the word physics (equal probas | real probas): 2.321928094887362 | 1.9068905956085185\n",
      "Information value (IDF) of the word biology (equal probas | real probas): 2.321928094887362 | 3.321928094887362\n",
      "Average information value of the whole corpus (equal probas | real probas): 2.321928094887362 | 2.1898980954642875\n"
     ]
    }
   ],
   "source": [
    "# Define the documents\n",
    "corpus = [\"computer computer math computer computer science\",\n",
    "            \"physics physics math math physics computer math\",\n",
    "            \"physics math biology math science science biology computer biology\",\n",
    "            \"physics  physics  physics  physics math  computer math computer\"]\n",
    "\n",
    "\n",
    "documents = [d.split() for d in corpus]\n",
    "corpus_joined = \" \".join(corpus).split()\n",
    "total_words = len(corpus_joined)\n",
    "\n",
    "# Calculate the probabilities of each word occurring\n",
    "word_counts = collections.Counter(corpus_joined)\n",
    "word_proba = {key: val / total_words for key, val in word_counts.items()}\n",
    "word_proba_equal = {key: 1 / len(word_counts) for key, val in word_counts.items()}\n",
    "\n",
    "words_idf = {key: -np.log2(val) for key, val in word_proba.items()}\n",
    "words_idf_equal = {key: -np.log2(val) for key, val in word_proba_equal.items()}\n",
    "\n",
    "for key, val in words_idf_equal.items():\n",
    "    print(f'Information value (IDF) of the word {key} (equal probas | real probas): {val} | {words_idf[key]}')\n",
    "\n",
    "avg_info = 0\n",
    "avg_info_equal = 0\n",
    "\n",
    "for key, val in words_idf.items():\n",
    "    avg_info += val * word_proba[key]\n",
    "    avg_info_equal += words_idf_equal[key] * word_proba_equal[key]\n",
    "    \n",
    "print(f\"Average information value of the whole corpus (equal probas | real probas): {avg_info_equal} | {avg_info}\")"
   ]
  },
  {
   "cell_type": "code",
   "execution_count": 9,
   "metadata": {},
   "outputs": [
    {
     "name": "stdout",
     "output_type": "stream",
     "text": [
      "Information value (IDF) of the word computer: -0.0\n",
      "Information value (IDF) of the word math: -0.0\n",
      "Information value (IDF) of the word science: 1.0\n",
      "Information value (IDF) of the word physics: 0.4150374992788438\n",
      "Information value (IDF) of the word biology: 2.0\n",
      "Average information value of the whole corpus: 0.41067666647435835\n"
     ]
    }
   ],
   "source": [
    "# Define the documents\n",
    "corpus = [\"computer computer math computer computer science\",\n",
    "            \"physics physics math math physics computer math\",\n",
    "            \"physics math biology math science science biology computer biology\",\n",
    "            \"physics  physics  physics  physics math  computer math computer\"]\n",
    "\n",
    "\n",
    "unique_in_documents = np.hstack([np.unique(d.split()) for d in corpus])\n",
    "\n",
    "total_words = len(unique_in_documents)\n",
    "\n",
    "# Calculate the probabilities of each word occurring\n",
    "word_counts = collections.Counter(unique_in_documents)\n",
    "proba_occurrence_in_doc = {key: val / len(corpus) for key, val in word_counts.items()}\n",
    "\n",
    "words_idf = {key: -np.log2(val) for key, val in proba_occurrence_in_doc.items()}\n",
    "\n",
    "for key, val in words_idf.items():\n",
    "    print(f'Information value (IDF) of the word {key}: {val}')\n",
    "\n",
    "avg_info = 0\n",
    "\n",
    "for key, val in words_idf.items():\n",
    "    avg_info += val * word_proba[key]\n",
    "    \n",
    "print(f\"Average information value of the whole corpus: {avg_info}\")"
   ]
  }
 ],
 "metadata": {
  "kernelspec": {
   "display_name": "my_env",
   "language": "python",
   "name": "python3"
  },
  "language_info": {
   "codemirror_mode": {
    "name": "ipython",
    "version": 3
   },
   "file_extension": ".py",
   "mimetype": "text/x-python",
   "name": "python",
   "nbconvert_exporter": "python",
   "pygments_lexer": "ipython3",
   "version": "3.10.4"
  },
  "orig_nbformat": 4,
  "vscode": {
   "interpreter": {
    "hash": "387518b9bb933b2acbabe9c770b01d5280faf9fe9d0f55f5f7b391bf5a387d20"
   }
  }
 },
 "nbformat": 4,
 "nbformat_minor": 2
}
