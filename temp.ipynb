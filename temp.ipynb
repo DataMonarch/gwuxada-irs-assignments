{
 "cells": [
  {
   "cell_type": "code",
   "execution_count": 14,
   "metadata": {},
   "outputs": [
    {
     "name": "stdout",
     "output_type": "stream",
     "text": [
      "Word: he\n",
      "Documents: [1, 1, 2, 3]\n",
      "\n",
      "Word: should\n",
      "Documents: [1, 1, 2, 3]\n",
      "\n",
      "Word: not\n",
      "Documents: [1, 1, 2]\n",
      "\n",
      "Word: be\n",
      "Documents: [1, 1, 2]\n",
      "\n",
      "Word: here\n",
      "Documents: [1, 2]\n",
      "\n",
      "Word: about\n",
      "Documents: [1]\n",
      "\n",
      "Word: put\n",
      "Documents: [2, 3]\n",
      "\n",
      "Word: me\n",
      "Documents: [2, 3]\n",
      "\n",
      "Word: down\n",
      "Documents: [2, 3]\n",
      "\n",
      "Word: said\n",
      "Documents: [2, 3]\n",
      "\n",
      "Word: the\n",
      "Documents: [2, 3, 3]\n",
      "\n",
      "Word: fish\n",
      "Documents: [2, 3]\n",
      "\n",
      "Word: tell\n",
      "Documents: [3]\n",
      "\n",
      "Word: that\n",
      "Documents: [3]\n",
      "\n",
      "Word: cat\n",
      "Documents: [3]\n",
      "\n",
      "Word: in\n",
      "Documents: [3]\n",
      "\n",
      "Word: hat\n",
      "Documents: [3]\n",
      "\n"
     ]
    }
   ],
   "source": [
    "import pandas as pd\n",
    "import numpy as np\n",
    "from collections import defaultdict\n",
    "import string\n",
    "\n",
    "# not considering the word location\n",
    "\n",
    "documents = [\n",
    "    \"he should not be here. he should not be about.\",\n",
    "    \"he should not be here\\n'put me down!' said the fish.\",\n",
    "    \"tell that cat in the hat\\nhe should put me down!' said the fish\"\n",
    "    ]\n",
    "\n",
    "# Split the documents into words and ignore any punctuation\n",
    "words = []\n",
    "\n",
    "for doc_idx, doc in enumerate(documents):\n",
    "    words_in_doc = [word.strip(string.punctuation) for word in doc.split()]\n",
    "    words.extend([(word, doc_idx+1) for word in words_in_doc])\n",
    "\n",
    "# Create an inverted index\n",
    "inverted_index = defaultdict(list)\n",
    "for word, doc_idx in words:\n",
    "    inverted_index[word].append(doc_idx)\n",
    "\n",
    "for word, docs in inverted_index.items():\n",
    "    print(\"Word:\", word)\n",
    "    print(\"Documents:\", docs)\n",
    "    print()"
   ]
  },
  {
   "cell_type": "code",
   "execution_count": 13,
   "metadata": {},
   "outputs": [
    {
     "name": "stdout",
     "output_type": "stream",
     "text": [
      "Word: he\n",
      "Document: {1: [1, 6], 2: [1], 3: [7]}\n",
      "\n",
      "Word: should\n",
      "Document: {1: [2, 7], 2: [2], 3: [8]}\n",
      "\n",
      "Word: not\n",
      "Document: {1: [3, 8], 2: [3]}\n",
      "\n",
      "Word: be\n",
      "Document: {1: [4, 9], 2: [4]}\n",
      "\n",
      "Word: here.\n",
      "Document: {1: [5]}\n",
      "\n",
      "Word: about.\n",
      "Document: {1: [10]}\n",
      "\n",
      "Word: here\n",
      "Document: {2: [5]}\n",
      "\n",
      "Word: 'put\n",
      "Document: {2: [6]}\n",
      "\n",
      "Word: me\n",
      "Document: {2: [7], 3: [10]}\n",
      "\n",
      "Word: down!'\n",
      "Document: {2: [8], 3: [11]}\n",
      "\n",
      "Word: said\n",
      "Document: {2: [9], 3: [12]}\n",
      "\n",
      "Word: the\n",
      "Document: {2: [10], 3: [5, 13]}\n",
      "\n",
      "Word: fish.\n",
      "Document: {2: [11]}\n",
      "\n",
      "Word: tell\n",
      "Document: {3: [1]}\n",
      "\n",
      "Word: that\n",
      "Document: {3: [2]}\n",
      "\n",
      "Word: cat\n",
      "Document: {3: [3]}\n",
      "\n",
      "Word: in\n",
      "Document: {3: [4]}\n",
      "\n",
      "Word: hat\n",
      "Document: {3: [6]}\n",
      "\n",
      "Word: put\n",
      "Document: {3: [9]}\n",
      "\n",
      "Word: fish\n",
      "Document: {3: [14]}\n",
      "\n"
     ]
    }
   ],
   "source": [
    "def generate_inversion_list(documents):\n",
    "    inverted_index = {}\n",
    "    for idx, document in enumerate(documents):\n",
    "        words = document.split()\n",
    "        for word_idx, word in enumerate(words):\n",
    "            word = word.lower()\n",
    "            if word not in inverted_index:\n",
    "                inverted_index[word] = {}\n",
    "            if idx+1 not in inverted_index[word]:\n",
    "                inverted_index[word][idx+1] = []\n",
    "            inverted_index[word][idx+1].append(word_idx+1)\n",
    "    return inverted_index\n",
    "\n",
    "documents = [\n",
    "    \"he should not be here. he should not be about.\",\n",
    "    \"he should not be here\\n'put me down!' said the fish.\",\n",
    "    \"tell that cat in the hat\\nhe should put me down!' said the fish\"\n",
    "]\n",
    "inverted_index = generate_inversion_list(documents)\n",
    "for word, docs in inverted_index.items():\n",
    "    print(\"Word:\", word)\n",
    "    print(\"Document:\", docs)\n",
    "    print()"
   ]
  },
  {
   "attachments": {},
   "cell_type": "markdown",
   "metadata": {},
   "source": [
    "# Assignment 04"
   ]
  },
  {
   "cell_type": "code",
   "execution_count": 6,
   "metadata": {},
   "outputs": [],
   "source": [
    "import pandas as pd\n",
    "import numpy as np"
   ]
  },
  {
   "cell_type": "code",
   "execution_count": 20,
   "metadata": {},
   "outputs": [],
   "source": [
    "def generate_shingles(doc: str, n: int=3):\n",
    "    shingles = doc.replace(\"w\", \"\").split()\n",
    "    comb_s = [int(\"\".join(shingles[i: i+n])) for i in range(len(shingles)-(n-1))]\n",
    "    return comb_s"
   ]
  },
  {
   "cell_type": "code",
   "execution_count": 21,
   "metadata": {},
   "outputs": [
    {
     "data": {
      "text/plain": [
       "doc1    int32\n",
       "doc2    int32\n",
       "dtype: object"
      ]
     },
     "execution_count": 21,
     "metadata": {},
     "output_type": "execute_result"
    }
   ],
   "source": [
    "doc1 = \"w1 w6 w8 w6 w8 w5 w4 w7 w7 w4 w9 w2\"\n",
    "doc2 = \"w8 w2 w1 w6 w8 w6 w8 w5 w4 w7 w7 w4\"\n",
    "\n",
    "comb_s1 = generate_shingles(doc1)\n",
    "comb_s2 = generate_shingles(doc2)\n",
    "\n",
    "data = np.array([comb_s1, comb_s2]).T\n",
    "df = pd.DataFrame(data, columns=[\"doc1\", \"doc2\"])\n",
    "df.dtypes"
   ]
  },
  {
   "cell_type": "code",
   "execution_count": 36,
   "metadata": {},
   "outputs": [
    {
     "data": {
      "text/plain": [
       "0.6666666666666666"
      ]
     },
     "execution_count": 36,
     "metadata": {},
     "output_type": "execute_result"
    }
   ],
   "source": [
    "def calculate_similarity(doc1, doc2, num_lowest_shingles: int=None):\n",
    "    \n",
    "    if num_lowest_shingles:\n",
    "        comb_s2 = generate_shingles(doc2)[:num_lowest_shingles]\n",
    "        comb_s1 = generate_shingles(doc1)[:num_lowest_shingles]\n",
    "    else:\n",
    "        comb_s2 = generate_shingles(doc2)\n",
    "        comb_s1 = generate_shingles(doc1)\n",
    "        \n",
    "    return len(set(comb_s1).intersection(set(comb_s2))) / len(set(comb_s1).union(set(comb_s2)))\n",
    "\n",
    "doc1 = \"w1 w6 w8 w6 w8 w5 w4 w7 w7 w4 w9 w2\"\n",
    "doc2 = \"w8 w2 w1 w6 w8 w6 w8 w5 w4 w7 w7 w4\"\n",
    "\n",
    "\n",
    "resemblence = calculate_similarity(doc1, doc2)\n",
    "resemblence"
   ]
  },
  {
   "cell_type": "code",
   "execution_count": 35,
   "metadata": {},
   "outputs": [
    {
     "data": {
      "text/html": [
       "<div>\n",
       "<style scoped>\n",
       "    .dataframe tbody tr th:only-of-type {\n",
       "        vertical-align: middle;\n",
       "    }\n",
       "\n",
       "    .dataframe tbody tr th {\n",
       "        vertical-align: top;\n",
       "    }\n",
       "\n",
       "    .dataframe thead th {\n",
       "        text-align: right;\n",
       "    }\n",
       "</style>\n",
       "<table border=\"1\" class=\"dataframe\">\n",
       "  <thead>\n",
       "    <tr style=\"text-align: right;\">\n",
       "      <th></th>\n",
       "      <th>doc1</th>\n",
       "      <th>doc2</th>\n",
       "    </tr>\n",
       "  </thead>\n",
       "  <tbody>\n",
       "    <tr>\n",
       "      <th>0</th>\n",
       "      <td>168</td>\n",
       "      <td>168</td>\n",
       "    </tr>\n",
       "    <tr>\n",
       "      <th>1</th>\n",
       "      <td>477</td>\n",
       "      <td>216</td>\n",
       "    </tr>\n",
       "    <tr>\n",
       "      <th>2</th>\n",
       "      <td>492</td>\n",
       "      <td>477</td>\n",
       "    </tr>\n",
       "    <tr>\n",
       "      <th>3</th>\n",
       "      <td>547</td>\n",
       "      <td>547</td>\n",
       "    </tr>\n",
       "    <tr>\n",
       "      <th>4</th>\n",
       "      <td>685</td>\n",
       "      <td>685</td>\n",
       "    </tr>\n",
       "  </tbody>\n",
       "</table>\n",
       "</div>"
      ],
      "text/plain": [
       "   doc1  doc2\n",
       "0   168   168\n",
       "1   477   216\n",
       "2   492   477\n",
       "3   547   547\n",
       "4   685   685"
      ]
     },
     "execution_count": 35,
     "metadata": {},
     "output_type": "execute_result"
    }
   ],
   "source": [
    "doc1 = \"w1 w6 w8 w6 w8 w5 w4 w7 w7 w4 w9 w2\"\n",
    "doc2 = \"w8 w2 w1 w6 w8 w6 w8 w5 w4 w7 w7 w4\"\n",
    "\n",
    "comb_s1 = sorted(generate_shingles(doc1))[:5]\n",
    "comb_s2 = sorted(generate_shingles(doc2))[:5]\n",
    "\n",
    "data = np.array([comb_s1, comb_s2]).T\n",
    "df = pd.DataFrame(data, columns=[\"doc1\", \"doc2\"])\n",
    "df"
   ]
  },
  {
   "cell_type": "code",
   "execution_count": 37,
   "metadata": {},
   "outputs": [],
   "source": [
    "def calculate_similarity(doc1, doc2, num_lowest_shingles: int=None):\n",
    "    \n",
    "    if num_lowest_shingles:\n",
    "        comb_s2 = generate_shingles(doc2)[:num_lowest_shingles]\n",
    "        comb_s1 = generate_shingles(doc1)[:num_lowest_shingles]\n",
    "    else:\n",
    "        comb_s2 = generate_shingles(doc2)\n",
    "        comb_s1 = generate_shingles(doc1)\n",
    "        \n",
    "    return len(set(comb_s1).intersection(set(comb_s2))) / len(set(comb_s1).union(set(comb_s2)))"
   ]
  },
  {
   "cell_type": "code",
   "execution_count": 39,
   "metadata": {},
   "outputs": [
    {
     "data": {
      "text/plain": [
       "0.42857142857142855"
      ]
     },
     "execution_count": 39,
     "metadata": {},
     "output_type": "execute_result"
    }
   ],
   "source": [
    "doc1 = \"w1 w6 w8 w6 w8 w5 w4 w7 w7 w4 w9 w2\"\n",
    "doc2 = \"w8 w2 w1 w6 w8 w6 w8 w5 w4 w7 w7 w4\"\n",
    "\n",
    "resemblence = calculate_similarity(doc1, doc2, num_lowest_shingles=5)\n",
    "resemblence"
   ]
  },
  {
   "cell_type": "code",
   "execution_count": 1,
   "metadata": {},
   "outputs": [
    {
     "name": "stdout",
     "output_type": "stream",
     "text": [
      "Probabilities of each category: [0.33333333 0.66666667]\n",
      "Probabilities of new document given each category: [0.0216     0.03703704]\n",
      "Probabilities of each category given the new document: [0.22576649 0.77423351]\n"
     ]
    }
   ],
   "source": [
    "import numpy as np\n",
    "\n",
    "# Define the documents and their categories\n",
    "docs = [    {'text': 'Oak, Plum, Rose, Oak, Oak, Plum, Ash, Ash, Ash', 'category': 1},    {'text': 'Plum, Strawberry, OAK, Ash, Ash, Ash, Oak, Ash', 'category': 1},    {'text': 'Ash, Plum, Apple, Apple, Apple, Oak, Ash, Plum', 'category': 1},    {'text': 'Ash, Ash, Rose, Rose, Plum, Plum, Plum, Oak', 'category': 1},    {'text': 'Rose, Rose, Rose, Plum, Tulip, Tulip', 'category': 0},    {'text': 'Rose, Tulip, Tulip, Rose, Plum, Tulip, Strawberry', 'category': 0}]\n",
    "\n",
    "# Define the categories\n",
    "categories = {\n",
    "    0: 'Not about trees',\n",
    "    1: 'About trees'\n",
    "}\n",
    "\n",
    "# Define the new document\n",
    "new_doc = 'Rose, Rose, Rose, Ash'\n",
    "\n",
    "# Create a vocabulary of all unique words in the documents\n",
    "vocab = set()\n",
    "for doc in docs:\n",
    "    for word in doc['text'].split(', '):\n",
    "        vocab.add(word)\n",
    "vocab = list(vocab)\n",
    "\n",
    "# Create a matrix of word frequencies for each document\n",
    "word_counts = np.zeros((len(docs), len(vocab)))\n",
    "for i, doc in enumerate(docs):\n",
    "    for word in doc['text'].split(', '):\n",
    "        j = vocab.index(word)\n",
    "        word_counts[i, j] += 1\n",
    "\n",
    "# Calculate the probabilities of each category\n",
    "num_docs = len(docs)\n",
    "p_category = np.zeros(len(categories))\n",
    "for i, category in categories.items():\n",
    "    num_docs_in_category = sum(doc['category'] == i for doc in docs)\n",
    "    p_category[i] = num_docs_in_category / num_docs\n",
    "\n",
    "# Calculate the conditional probabilities of each word given each category\n",
    "word_probs = np.zeros((len(categories), len(vocab)))\n",
    "for i, category in categories.items():\n",
    "    docs_in_category = [doc for doc in docs if doc['category'] == i]\n",
    "    num_docs_in_category = len(docs_in_category)\n",
    "    category_word_counts = np.zeros(len(vocab))\n",
    "    for doc in docs_in_category:\n",
    "        for word in doc['text'].split(', '):\n",
    "            j = vocab.index(word)\n",
    "            category_word_counts[j] += 1\n",
    "    word_probs[i, :] = (category_word_counts + 1) / (num_docs_in_category + len(vocab))\n",
    "\n",
    "# Calculate the probabilities of the new document being in each category\n",
    "new_doc_word_counts = np.zeros(len(vocab))\n",
    "for word in new_doc.split(', '):\n",
    "    if word in vocab:\n",
    "        j = vocab.index(word)\n",
    "        new_doc_word_counts[j] += 1\n",
    "p_new_doc_given_category = np.zeros(len(categories))\n",
    "for i, category in categories.items():\n",
    "    p_new_doc_given_category[i] = np.prod(word_probs[i, :] ** new_doc_word_counts)\n",
    "\n",
    "# Calculate the probabilities of each category given the new document\n",
    "p_category_given_new_doc = np.zeros(len(categories))\n",
    "for i, category in categories.items():\n",
    "    p_category_given_new_doc[i] = p_new_doc_given_category[i] * p_category[i]\n",
    "p_category_given_new_doc /= np.sum(p_category_given_new_doc)\n",
    "\n",
    "# Print the results\n",
    "print(f'Probabilities of each category: {p_category}')\n",
    "print(f'Probabilities of new document given each category: {p_new_doc_given_category}')\n",
    "print(f'Probabilities of each category given the new document: {p_category_given_new_doc}')\n"
   ]
  }
 ],
 "metadata": {
  "kernelspec": {
   "display_name": "my_env",
   "language": "python",
   "name": "python3"
  },
  "language_info": {
   "codemirror_mode": {
    "name": "ipython",
    "version": 3
   },
   "file_extension": ".py",
   "mimetype": "text/x-python",
   "name": "python",
   "nbconvert_exporter": "python",
   "pygments_lexer": "ipython3",
   "version": "3.10.4"
  },
  "orig_nbformat": 4,
  "vscode": {
   "interpreter": {
    "hash": "387518b9bb933b2acbabe9c770b01d5280faf9fe9d0f55f5f7b391bf5a387d20"
   }
  }
 },
 "nbformat": 4,
 "nbformat_minor": 2
}
