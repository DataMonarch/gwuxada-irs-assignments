{
 "cells": [
  {
   "cell_type": "code",
   "execution_count": 15,
   "metadata": {},
   "outputs": [],
   "source": [
    "# Q3\n",
    "\n",
    "import numpy as np\n",
    "import pandas as pd\n",
    "\n",
    "# Define the data matrix\n",
    "data = np.array([[0, 5, 15, 5, 6, 12, 8, 2, 12, 11, 5, 3],\n",
    "                 [5, 0, 8, 18, 23, 7, 17, 10, 20, 10, 5, 8],\n",
    "                 [15, 8, 0, 20, 5, 12, 18, 7, 18, 12, 19, 7],\n",
    "                 [5, 18, 20, 0, 17, 8, 16, 9, 19, 14, 13, 10],\n",
    "                 [6, 23, 5, 17, 0, 20, 13, 6, 16, 8, 12, 6],\n",
    "                 [12, 7, 12, 8, 20, 0, 14, 17, 4, 16, 18, 22],\n",
    "                 [8, 17, 18, 16, 13, 14, 0, 10, 5, 5, 6, 17],\n",
    "                 [2, 10, 7, 9, 6, 17, 10, 0, 8, 2, 17, 2],\n",
    "                 [12, 20, 18, 19, 16, 4, 5, 8, 0, 12, 10, 18],\n",
    "                 [11, 10, 12, 14, 8, 16, 5, 2, 12, 0, 19, 12],\n",
    "                 [5, 5, 19, 13, 12, 18, 6, 17, 10, 19, 0, 13],\n",
    "                 [3, 8, 7, 10, 6, 22, 17, 2, 18, 12, 13, 0]])\n",
    "\n",
    "doc_names = [f'D{i+1}' for i in range(len(data))]\n",
    "df = pd.DataFrame(data, columns=doc_names, index=doc_names)\n",
    "\n",
    "c1 = [0, 1, 2]\n",
    "c2 = [3, 4, 5]\n",
    "c3 = [6, 7, 8]\n",
    "c4 = [9, 10, 11]\n",
    "\n",
    "clusters = {\"C1\": c1, \"C2\": c2, \"C3\": c3, \"C4\": c4}\n",
    "\n",
    "def find_avg_link(clusters):\n",
    "    highest = 0\n",
    "    pairs = []\n",
    "    for key, cluster in clusters.items():\n",
    "        for new_key, new_cluster in clusters.items():\n",
    "            if key != new_key:\n",
    "                arr = data[cluster, new_cluster].reshape(-1)\n",
    "                print(arr)\n",
    "                avg_sim = arr.sum() / len(arr)\n",
    "                print(f\"The AVG Link between {key} and {new_key}: {avg_sim}\")\n",
    "                if avg_sim > highest:\n",
    "                    highest = avg_sim\n",
    "                    new_cluster = f\"Comb{key}{new_key}\"\n",
    "                    pairs = [key, new_key, new_cluster]\n",
    "                    \n",
    "    new_vals = clusters[pairs[0]] + clusters[pairs[1]]\n",
    "    print(f\"Highest is: {pairs[0]}x{pairs[1]}: {highest}\")\n",
    "    for i in range(2):\n",
    "        clusters.pop(pairs[i])\n",
    "    clusters[pairs[-1]] = new_vals\n",
    "    \n",
    "    return clusters\n"
   ]
  },
  {
   "cell_type": "code",
   "execution_count": 16,
   "metadata": {},
   "outputs": [
    {
     "name": "stdout",
     "output_type": "stream",
     "text": [
      "The AVG Link between C1 and C2: 13.333333333333334\n",
      "The AVG Link between C1 and C3: 12.0\n",
      "The AVG Link between C1 and C4: 7.666666666666667\n",
      "The AVG Link between C2 and C1: 13.333333333333334\n",
      "The AVG Link between C2 and C3: 8.666666666666666\n",
      "The AVG Link between C2 and C4: 16.0\n",
      "The AVG Link between C3 and C1: 12.0\n",
      "The AVG Link between C3 and C2: 8.666666666666666\n",
      "The AVG Link between C3 and C4: 13.333333333333334\n",
      "The AVG Link between C4 and C1: 7.666666666666667\n",
      "The AVG Link between C4 and C2: 16.0\n",
      "The AVG Link between C4 and C3: 13.333333333333334\n",
      "Highest is: C2xC4: 16.0\n"
     ]
    },
    {
     "data": {
      "text/plain": [
       "{'C1': [0, 1, 2], 'C3': [6, 7, 8], 'CombC2C4': [3, 4, 5, 9, 10, 11]}"
      ]
     },
     "execution_count": 16,
     "metadata": {},
     "output_type": "execute_result"
    }
   ],
   "source": [
    "find_avg_link(clusters)"
   ]
  },
  {
   "cell_type": "code",
   "execution_count": null,
   "metadata": {},
   "outputs": [],
   "source": []
  }
 ],
 "metadata": {
  "kernelspec": {
   "display_name": "my_env",
   "language": "python",
   "name": "python3"
  },
  "language_info": {
   "codemirror_mode": {
    "name": "ipython",
    "version": 3
   },
   "file_extension": ".py",
   "mimetype": "text/x-python",
   "name": "python",
   "nbconvert_exporter": "python",
   "pygments_lexer": "ipython3",
   "version": "3.10.4"
  },
  "orig_nbformat": 4
 },
 "nbformat": 4,
 "nbformat_minor": 2
}
