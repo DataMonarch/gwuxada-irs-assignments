{
 "cells": [
  {
   "cell_type": "code",
   "execution_count": 10,
   "metadata": {},
   "outputs": [],
   "source": [
    "import numpy as np\n",
    "import pandas as pd\n",
    "import itertools"
   ]
  },
  {
   "attachments": {},
   "cell_type": "markdown",
   "metadata": {},
   "source": [
    "# Q1"
   ]
  },
  {
   "cell_type": "code",
   "execution_count": 5,
   "metadata": {},
   "outputs": [
    {
     "name": "stdout",
     "output_type": "stream",
     "text": [
      "[[ 0. 20. 10.  8.  0. 26.]\n",
      " [20.  0. 10. 10.  0. 32.]\n",
      " [10. 10.  0. 10.  2. 20.]\n",
      " [ 8. 10. 10.  0.  0. 13.]\n",
      " [ 0.  0.  2.  0.  0.  4.]\n",
      " [26. 32. 20. 13.  4.  0.]]\n"
     ]
    }
   ],
   "source": [
    "# Document Term matrix\n",
    "doc_term = np.array([[3, 0, 2, 2, 0, 0, 4, 3],\n",
    "                     [0, 0, 4, 3, 2, 0, 0, 2],\n",
    "                     [2, 2, 0, 2, 2, 1, 0, 0],\n",
    "                     [0, 1, 0, 2, 2, 0, 1, 0],\n",
    "                     [0, 0, 0, 0, 0, 2, 0, 0],\n",
    "                     [2, 1, 3, 4, 2, 2, 0, 2]])\n",
    "\n",
    "# Item/Item matrix\n",
    "item_matrix = np.zeros((doc_term.shape[0], doc_term.shape[0]))\n",
    "\n",
    "for i in range(doc_term.shape[0]):\n",
    "    for j in range(i+1, doc_term.shape[0]):\n",
    "        # similarity calculation\n",
    "        similarity = np.dot(doc_term[i], doc_term[j])\n",
    "        item_matrix[i][j] = similarity\n",
    "        item_matrix[j][i] = similarity\n",
    "\n",
    "print(item_matrix)"
   ]
  },
  {
   "cell_type": "code",
   "execution_count": 8,
   "metadata": {},
   "outputs": [
    {
     "data": {
      "text/plain": [
       "array([[0, 1, 1, 1, 0, 1],\n",
       "       [1, 0, 1, 1, 0, 1],\n",
       "       [1, 1, 0, 1, 0, 1],\n",
       "       [1, 1, 1, 0, 0, 1],\n",
       "       [0, 0, 0, 0, 0, 0],\n",
       "       [1, 1, 1, 1, 0, 0]])"
      ]
     },
     "execution_count": 8,
     "metadata": {},
     "output_type": "execute_result"
    }
   ],
   "source": [
    "# the Item Relationship matrix using a threshold of 8 or higher based on the Item/Item matrix\n",
    "relationship_matrix = item_matrix >= 8\n",
    "relationship_matrix = relationship_matrix.astype(int)\n",
    "relationship_matrix"
   ]
  },
  {
   "cell_type": "code",
   "execution_count": 12,
   "metadata": {},
   "outputs": [
    {
     "data": {
      "text/plain": [
       "array([[0, 1, 0, 0, 0, 1],\n",
       "       [1, 0, 0, 0, 0, 1],\n",
       "       [0, 0, 0, 0, 0, 1],\n",
       "       [0, 0, 0, 0, 0, 1],\n",
       "       [0, 0, 0, 0, 0, 0],\n",
       "       [1, 1, 1, 1, 0, 0]])"
      ]
     },
     "execution_count": 12,
     "metadata": {},
     "output_type": "execute_result"
    }
   ],
   "source": [
    "# the Item Relationship matrix using a threshold of 1 or higher based on the Item/Item matrix\n",
    "relationship_matrix = item_matrix >= 11\n",
    "relationship_matrix = relationship_matrix.astype(int)\n",
    "relationship_matrix"
   ]
  },
  {
   "cell_type": "code",
   "execution_count": 11,
   "metadata": {},
   "outputs": [
    {
     "name": "stdout",
     "output_type": "stream",
     "text": [
      "Clique 1: (0, 1, 2)\n",
      "Clique 2: (0, 1, 3)\n",
      "Clique 3: (0, 1, 5)\n",
      "Clique 4: (0, 2, 3)\n",
      "Clique 5: (0, 2, 5)\n",
      "Clique 6: (0, 3, 5)\n",
      "Clique 7: (1, 2, 3)\n",
      "Clique 8: (1, 2, 5)\n",
      "Clique 9: (1, 3, 5)\n",
      "Clique 10: (2, 3, 5)\n",
      "Clique 11: (0, 1, 2, 3)\n",
      "Clique 12: (0, 1, 2, 5)\n",
      "Clique 13: (0, 1, 3, 5)\n",
      "Clique 14: (0, 2, 3, 5)\n",
      "Clique 15: (1, 2, 3, 5)\n",
      "Clique 16: (0, 1, 2, 3, 5)\n"
     ]
    }
   ],
   "source": [
    "cliques = []\n",
    "for i in range(3, len(relationship_matrix)+1):\n",
    "    for combination in itertools.combinations(range(len(relationship_matrix)), i):\n",
    "        if all(relationship_matrix[x][y] for x, y in itertools.combinations(combination, 2)):\n",
    "            cliques.append(combination)\n",
    "\n",
    "# print the resulting cliques\n",
    "for i, clique in enumerate(cliques):\n",
    "    print(f\"Clique {i+1}: {clique}\")"
   ]
  },
  {
   "attachments": {},
   "cell_type": "markdown",
   "metadata": {},
   "source": [
    "# Q2"
   ]
  },
  {
   "cell_type": "code",
   "execution_count": 85,
   "metadata": {},
   "outputs": [
    {
     "name": "stdout",
     "output_type": "stream",
     "text": [
      ">>> Cluster Centroids before the start of the iterations:\n",
      "CL1: [3. 0. 2. 2. 0. 0. 4. 3.]\n",
      "CL2: [2. 2. 0. 2. 2. 1. 0. 0.]\n",
      "CL3: [0. 0. 0. 0. 0. 2. 0. 0.]\n",
      ">>> Clusters before the start of the iterations:\n",
      "CL1: [1]\n",
      "CL2: [3]\n",
      "CL3: [5]\n",
      "\n",
      "--------------------------------------------------\n",
      "\n",
      ">>> Cluster Centroids at the start of iteration 1\n",
      "CL1: [3. 0. 2. 2. 0. 0. 4. 3.]\n",
      "CL2: [2. 2. 0. 2. 2. 1. 0. 0.]\n",
      "CL3: [0. 0. 0. 0. 0. 2. 0. 0.]\n",
      "\n",
      ">>> Clusters at the end of iteration 1:\n",
      "CL1: [1, 2, 6]\n",
      "CL2: [3, 4]\n",
      "CL3: [5]\n",
      "\n",
      "--------------------------------------------------\n",
      "\n",
      ">>> Cluster Centroids at the start of iteration 2\n",
      "CL1: [1.66666667 0.33333333 3.         3.         1.33333333 0.66666667\n",
      " 1.33333333 2.33333333]\n",
      "CL2: [1.  1.5 0.  2.  2.  0.5 0.5 0. ]\n",
      "CL3: [0. 0. 0. 0. 0. 2. 0. 0.]\n",
      "\n",
      ">>> Clusters at the end of iteration 2:\n",
      "CL1: [1, 2, 4, 6]\n",
      "CL2: [3]\n",
      "CL3: [5]\n",
      "\n",
      "--------------------------------------------------\n",
      "\n",
      ">>> Cluster Centroids at the start of iteration 3\n",
      "CL1: [1.25 0.5  2.25 2.75 1.5  0.5  1.25 1.75]\n",
      "CL2: [2. 2. 0. 2. 2. 1. 0. 0.]\n",
      "CL3: [0. 0. 0. 0. 0. 2. 0. 0.]\n",
      "\n",
      ">>> Clusters at the end of iteration 3:\n",
      "CL1: [1, 2, 4, 6]\n",
      "CL2: [3]\n",
      "CL3: [5]\n",
      "\n",
      "--------------------------------------------------\n",
      "\n",
      ">>> Cluster Centroids at the start of iteration 4\n",
      "CL1: [1.25 0.5  2.25 2.75 1.5  0.5  1.25 1.75]\n",
      "CL2: [2. 2. 0. 2. 2. 1. 0. 0.]\n",
      "CL3: [0. 0. 0. 0. 0. 2. 0. 0.]\n",
      "\n",
      ">>> Clusters at the end of iteration 4:\n",
      "CL1: [1, 2, 4, 6]\n",
      "CL2: [3]\n",
      "CL3: [5]\n",
      "\n",
      "--------------------------------------------------\n",
      "\n",
      ">>> Cluster Centroids at the start of iteration 5\n",
      "CL1: [1.25 0.5  2.25 2.75 1.5  0.5  1.25 1.75]\n",
      "CL2: [2. 2. 0. 2. 2. 1. 0. 0.]\n",
      "CL3: [0. 0. 0. 0. 0. 2. 0. 0.]\n",
      "\n",
      ">>> Clusters at the end of iteration 5:\n",
      "CL1: [1, 2, 4, 6]\n",
      "CL2: [3]\n",
      "CL3: [5]\n",
      "\n",
      "--------------------------------------------------\n",
      "\n"
     ]
    }
   ],
   "source": [
    "# Question 2\n",
    "\n",
    "# Document Term matrix\n",
    "doc_term = np.array([[3, 0, 2, 2, 0, 0, 4, 3],\n",
    "                     [0, 0, 4, 3, 2, 0, 0, 2],\n",
    "                     [2, 2, 0, 2, 2, 1, 0, 0],\n",
    "                     [0, 1, 0, 2, 2, 0, 1, 0],\n",
    "                     [0, 0, 0, 0, 0, 2, 0, 0],\n",
    "                     [2, 1, 3, 4, 2, 2, 0, 2]])\n",
    "\n",
    "# Existing clusters\n",
    "clusters = {\"CL1\": [0], \"CL2\": [2], \"CL3\": [4]}\n",
    "CL1, CL2, CL3 = [], [], []\n",
    "\n",
    "\n",
    "[CL1.append(doc_term[item]) for item in clusters[\"CL1\"]]\n",
    "CL1 = np.array(CL1).sum(axis=0) / len(clusters[\"CL1\"])\n",
    "[CL2.append(doc_term[item]) for item in clusters[\"CL2\"]]\n",
    "CL2 = np.sum(np.array(CL2), axis=0) / len(clusters[\"CL2\"])\n",
    "[CL3.append(doc_term[item]) for item in clusters[\"CL3\"]]\n",
    "CL3 = np.sum(np.array(CL3), axis=0) / len(clusters[\"CL3\"])\n",
    "\n",
    "\n",
    "print(\">>> Cluster Centroids before the start of the iterations:\")\n",
    "print(f\"CL1: {CL1}\")\n",
    "print(f\"CL2: {CL2}\")\n",
    "print(f\"CL3: {CL3}\")\n",
    "\n",
    "print(f\">>> Clusters before the start of the iterations:\")\n",
    "print(f\"CL1: {[i+1 for i in clusters['CL1']]}\")\n",
    "print(f\"CL2: {[i+1 for i in clusters['CL2']]}\")\n",
    "print(f\"CL3: {[i+1 for i in clusters['CL3']]}\")\n",
    "\n",
    "print('\\n' + '-'*50 + '\\n')\n",
    "\n",
    "for i in range(5):\n",
    "    CL1, CL2, CL3 = [], [], []\n",
    "    \n",
    "    [CL1.append(doc_term[item]) for item in clusters[\"CL1\"]]\n",
    "    CL1 = np.array(CL1).sum(axis=0) / len(clusters[\"CL1\"])\n",
    "    [CL2.append(doc_term[item]) for item in clusters[\"CL2\"]]\n",
    "    CL2 = np.sum(np.array(CL2), axis=0) / len(clusters[\"CL2\"])\n",
    "    [CL3.append(doc_term[item]) for item in clusters[\"CL3\"]]\n",
    "    CL3 = np.sum(np.array(CL3), axis=0) / len(clusters[\"CL3\"])\n",
    "    \n",
    "    print(f\">>> Cluster Centroids at the start of iteration {i+1}\")\n",
    "    print(f\"CL1: {CL1}\")\n",
    "    print(f\"CL2: {CL2}\")\n",
    "    print(f\"CL3: {CL3}\")\n",
    "\n",
    "    cols = [f\"item {i+1}\" for i in range(doc_term.shape[0])]\n",
    "    res = np.zeros((4, doc_term.shape[0]))\n",
    "\n",
    "    # create a dataframe from the calculating the similarity between the existing clusters and the items\n",
    "    for j, item in enumerate(doc_term):\n",
    "        res[0][j] = np.dot(CL1, item)\n",
    "        res[1][j] = np.dot(CL2, item)\n",
    "        res[2][j] = np.dot(CL3, item)\n",
    "        \n",
    "    res[3] = np.argmax(res[:3], axis=0) + 1\n",
    "    res = res.astype(int)\n",
    "\n",
    "    df = pd.DataFrame(res, columns=cols, index=[\"CL1\", \"CL2\", \"CL3\", \"Cluster\"])\n",
    "    df_transposed = df.T\n",
    "    df_transposed.reset_index(inplace=True)\n",
    "\n",
    "    clusters = {f\"CL{i}\": list(df_transposed[df_transposed[\"Cluster\"] == i].index) for i in range(1, 4)}\n",
    "    \n",
    "    \n",
    "    print(f\"\\n>>> Clusters at the end of iteration {i+1}:\")\n",
    "    print(f\"CL1: {[i+1 for i in clusters['CL1']]}\")\n",
    "    print(f\"CL2: {[i+1 for i in clusters['CL2']]}\")\n",
    "    print(f\"CL3: {[i+1 for i in clusters['CL3']]}\")\n",
    "    \n",
    "    print('\\n' + '-'*50 + '\\n')\n"
   ]
  },
  {
   "cell_type": "code",
   "execution_count": 19,
   "metadata": {},
   "outputs": [
    {
     "name": "stdout",
     "output_type": "stream",
     "text": [
      "new_CL1: [[3. 0. 2. 2. 0. 0. 4. 3.]]\n",
      "new_CL2: [[0. 0. 4. 3. 2. 0. 0. 2.]\n",
      " [2. 2. 0. 2. 2. 1. 0. 0.]\n",
      " [0. 1. 0. 2. 2. 0. 1. 0.]\n",
      " [2. 1. 3. 4. 2. 2. 0. 2.]]\n",
      "new_CL3: [[0. 0. 0. 0. 0. 2. 0. 0.]]\n"
     ]
    }
   ],
   "source": [
    "# New clusters\n",
    "new_CLs = [np.zeros((1, doc_term.shape[1])) for i in range(3)]\n",
    "\n",
    "# Assign each doc_term point to its nearest cluster\n"
   ]
  },
  {
   "cell_type": "code",
   "execution_count": null,
   "metadata": {},
   "outputs": [],
   "source": []
  }
 ],
 "metadata": {
  "kernelspec": {
   "display_name": "my_env",
   "language": "python",
   "name": "python3"
  },
  "language_info": {
   "codemirror_mode": {
    "name": "ipython",
    "version": 3
   },
   "file_extension": ".py",
   "mimetype": "text/x-python",
   "name": "python",
   "nbconvert_exporter": "python",
   "pygments_lexer": "ipython3",
   "version": "3.10.4"
  },
  "orig_nbformat": 4
 },
 "nbformat": 4,
 "nbformat_minor": 2
}
