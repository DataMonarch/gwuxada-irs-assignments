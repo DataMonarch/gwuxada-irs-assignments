{
 "cells": [
  {
   "cell_type": "code",
   "execution_count": 1,
   "metadata": {},
   "outputs": [
    {
     "name": "stdout",
     "output_type": "stream",
     "text": [
      "[[0.1  0.05 0.   0.   0.2  0.25 0.4 ]\n",
      " [0.   0.   0.   0.5  0.5  0.   0.  ]\n",
      " [0.1  0.1  0.1  0.1  0.2  0.3  0.1 ]\n",
      " [0.   0.3  0.   0.3  0.4  0.   0.  ]\n",
      " [0.1  0.4  0.   0.1  0.2  0.2  0.  ]]\n"
     ]
    }
   ],
   "source": [
    "import numpy as np\n",
    "\n",
    "# Define the term/document table\n",
    "table = np.array([[2, 1, 0, 0, 4, 5, 8],\n",
    "                  [0, 0, 0, 5, 5, 0, 0],\n",
    "                  [2, 2, 2, 2, 4, 6, 2],\n",
    "                  [0, 3, 0, 3, 4, 0, 0],\n",
    "                  [3, 12, 0, 3, 6, 6, 0]])\n",
    "\n",
    "# Calculate the total number of words in each document\n",
    "totals = np.sum(table, axis=1)\n",
    "\n",
    "# Divide each element in the table by its corresponding total\n",
    "normalized_table = table / totals[:, np.newaxis]\n",
    "\n",
    "# Print the normalized table\n",
    "print(normalized_table)\n"
   ]
  }
 ],
 "metadata": {
  "kernelspec": {
   "display_name": "my_env",
   "language": "python",
   "name": "python3"
  },
  "language_info": {
   "codemirror_mode": {
    "name": "ipython",
    "version": 3
   },
   "file_extension": ".py",
   "mimetype": "text/x-python",
   "name": "python",
   "nbconvert_exporter": "python",
   "pygments_lexer": "ipython3",
   "version": "3.10.4"
  },
  "orig_nbformat": 4
 },
 "nbformat": 4,
 "nbformat_minor": 2
}
