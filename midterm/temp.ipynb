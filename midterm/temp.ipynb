{
 "cells": [
  {
   "cell_type": "code",
   "execution_count": 2,
   "metadata": {},
   "outputs": [],
   "source": [
    "import numpy as np\n",
    "import os"
   ]
  },
  {
   "cell_type": "code",
   "execution_count": 3,
   "metadata": {},
   "outputs": [
    {
     "name": "stdout",
     "output_type": "stream",
     "text": [
      "0101101101110111\n",
      "101101101110111\n",
      "01101101110111\n",
      "1101101110111\n",
      "101101110111\n",
      "01101110111\n",
      "1101110111\n",
      "101110111\n",
      "01110111\n"
     ]
    }
   ],
   "source": [
    "initial_str = \"0101101101110111\"\n",
    "\n",
    "sistring_list = []\n",
    "\n",
    "for i in range(len(initial_str)):\n",
    "    sistring = initial_str[i:]\n",
    "    sistring_list.append(sistring)\n",
    "    print(sistring)\n",
    "\n",
    "    if i == 8:\n",
    "        break"
   ]
  },
  {
   "cell_type": "code",
   "execution_count": 4,
   "metadata": {},
   "outputs": [],
   "source": [
    "def get_sistring_list(initial_str: str, num_of_sistrings:int = 9) -> list:\n",
    "    sistring_list = []\n",
    "    for i in range(len(initial_str)):\n",
    "        sistring = initial_str[i:]\n",
    "        sistring_list.append(sistring)\n",
    "        if i == num_of_sistrings - 1:\n",
    "            break\n",
    "        \n",
    "    return sistring_list"
   ]
  },
  {
   "cell_type": "code",
   "execution_count": 5,
   "metadata": {},
   "outputs": [],
   "source": [
    "def get_unique_prefixes(sistring_list: list) -> list:\n",
    "\n",
    "    # Find the longest common prefix\n",
    "    prefix = os.path.commonprefix(sistring_list)\n",
    "    unique_prefixes = []\n",
    "    # Print the unique prefix for each string\n",
    "    for string in sistring_list:\n",
    "        if string.startswith(prefix):\n",
    "            # Remove the prefix from the current string to get the unique prefix\n",
    "            unique_prefix = string.replace(prefix, '', 1)\n",
    "            unique_prefixes.append(unique_prefix)\n",
    "    \n",
    "    return unique_prefixes            "
   ]
  },
  {
   "cell_type": "code",
   "execution_count": 6,
   "metadata": {},
   "outputs": [
    {
     "data": {
      "text/plain": [
       "['0101101101110111',\n",
       " '101101101110111',\n",
       " '01101101110111',\n",
       " '1101101110111',\n",
       " '101101110111',\n",
       " '01101110111',\n",
       " '1101110111',\n",
       " '101110111',\n",
       " '01110111']"
      ]
     },
     "execution_count": 6,
     "metadata": {},
     "output_type": "execute_result"
    }
   ],
   "source": [
    "initial_str = \"0101101101110111\"\n",
    "sistrings = get_sistring_list(initial_str, 9)\n",
    "sistrings"
   ]
  },
  {
   "cell_type": "code",
   "execution_count": 7,
   "metadata": {},
   "outputs": [
    {
     "data": {
      "text/plain": [
       "['0101101101110111',\n",
       " '101101101110111',\n",
       " '01101101110111',\n",
       " '1101101110111',\n",
       " '101101110111',\n",
       " '01101110111',\n",
       " '1101110111',\n",
       " '101110111',\n",
       " '01110111']"
      ]
     },
     "execution_count": 7,
     "metadata": {},
     "output_type": "execute_result"
    }
   ],
   "source": [
    "get_unique_prefixes(sistrings)"
   ]
  },
  {
   "cell_type": "code",
   "execution_count": 8,
   "metadata": {},
   "outputs": [
    {
     "name": "stdout",
     "output_type": "stream",
     "text": [
      "['010', '0101', '01011', '010110', '0101101', '01011011', '010110110', '0101101101', '01011011011', '010110110111', '0101101101110', '01011011011101', '010110110111011', '0101101101110111', '10110110', '101101101', '1011011011', '10110110111', '101101101110', '1011011011101', '10110110111011', '101101101110111', '0110110', '01101101', '011011011', '0110110111', '01101101110', '011011011101', '0110110111011', '01101101110111', '110110', '1101101', '11011011', '110110111', '1101101110', '11011011101', '110110111011', '1101101110111', '10110111', '101101110', '1011011101', '10110111011', '101101110111', '0110111', '01101110', '011011101', '0110111011', '01101110111', '110111', '1101110', '11011101', '110111011', '1101110111', '10111', '101110', '1011101', '10111011', '101110111', '0111', '01110', '011101', '0111011', '01110111']\n"
     ]
    }
   ],
   "source": [
    "from pygtrie import Trie\n",
    "\n",
    "def unique_prefixes(strings):\n",
    "    trie = Trie()\n",
    "    prefixes = {}\n",
    "    for s in strings:\n",
    "        for i in range(len(s)):\n",
    "            prefix = s[:i+1]\n",
    "            if prefix in prefixes:\n",
    "                del prefixes[prefix]\n",
    "            elif prefix not in trie:\n",
    "                trie[prefix] = True\n",
    "                prefixes[prefix] = s\n",
    "    return list(prefixes.keys())\n",
    "\n",
    "print(unique_prefixes(sistrings))\n"
   ]
  },
  {
   "cell_type": "code",
   "execution_count": 12,
   "metadata": {},
   "outputs": [
    {
     "name": "stdout",
     "output_type": "stream",
     "text": [
      "010\n",
      "10110110\n",
      "0110110\n",
      "110110\n",
      "10110111\n",
      "0110111\n",
      "110111\n",
      "10111\n",
      "0111\n"
     ]
    }
   ],
   "source": [
    "class TrieNode:\n",
    "    def __init__(self):\n",
    "        self.children = {}\n",
    "        self.is_end_of_word = False\n",
    "        self.prefix_count = 0\n",
    "\n",
    "class Trie:\n",
    "    def __init__(self):\n",
    "        self.root = TrieNode()\n",
    "\n",
    "    def insert(self, word):\n",
    "        node = self.root\n",
    "        for char in word:\n",
    "            if char not in node.children:\n",
    "                node.children[char] = TrieNode()\n",
    "            node = node.children[char]\n",
    "            node.prefix_count += 1\n",
    "        node.is_end_of_word = True\n",
    "\n",
    "    def find_unique_prefix(self, word):\n",
    "        node = self.root\n",
    "        prefix = \"\"\n",
    "        for char in word:\n",
    "            node = node.children[char]\n",
    "            prefix += char\n",
    "            if node.prefix_count == 1:\n",
    "                return prefix\n",
    "        return prefix\n",
    "\n",
    "trie = Trie()\n",
    "for string in sistrings:\n",
    "    trie.insert(string)\n",
    "\n",
    "unique_prefixes = []\n",
    "\n",
    "for string in sistrings:\n",
    "    \n",
    "    unique_prefix = trie.find_unique_prefix(string)\n",
    "    unique_prefixes.append(unique_prefix)\n",
    "    print(unique_prefix)"
   ]
  }
 ],
 "metadata": {
  "kernelspec": {
   "display_name": "my_env",
   "language": "python",
   "name": "python3"
  },
  "language_info": {
   "codemirror_mode": {
    "name": "ipython",
    "version": 3
   },
   "file_extension": ".py",
   "mimetype": "text/x-python",
   "name": "python",
   "nbconvert_exporter": "python",
   "pygments_lexer": "ipython3",
   "version": "3.10.4"
  },
  "orig_nbformat": 4
 },
 "nbformat": 4,
 "nbformat_minor": 2
}
