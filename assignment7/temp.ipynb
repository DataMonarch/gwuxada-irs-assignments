{
 "cells": [
  {
   "cell_type": "code",
   "execution_count": 4,
   "metadata": {},
   "outputs": [
    {
     "name": "stdout",
     "output_type": "stream",
     "text": [
      "Original query:  [0 0 0 2 1 2]\n",
      "New query:  [1. 1. 1. 0. 0. 0.]\n",
      "Similarity weights between original query and documents:  [0.96590921 0.14285714 0.28571429 0.31234752]\n",
      "Similarity weights between new query and documents:  [0.14547859 0.65982888 0.65982888 0.72133571]\n"
     ]
    }
   ],
   "source": [
    "import numpy as np\n",
    "\n",
    "# relevance judgments\n",
    "rj = np.array([[0, 0, 0, 2, 1, 2],\n",
    "               [0, 4, 4, 3, 0, 0],\n",
    "               [0, 2, 6, 0, 3, 0],\n",
    "               [6, 0, 2, 0, 0, 3],\n",
    "               [0, 0, 4, 10, 6, 10]])\n",
    "\n",
    "# original query\n",
    "query = np.array([0, 0, 0, 2, 1, 2])\n",
    "\n",
    "# calculate average of relevant documents\n",
    "rel_avg = np.mean(rj[1:4], axis=0)\n",
    "\n",
    "# calculate average of non-relevant documents\n",
    "not_rel_avg = np.mean(rj[4:], axis=0)\n",
    "\n",
    "# calculate new query using feedback factors\n",
    "new_query = query + (0.5 * rel_avg) - (0.25 * not_rel_avg)\n",
    "\n",
    "# calculate similarity weights\n",
    "docs = np.array([[0, 0, 4, 10, 6, 10],\n",
    "                 [0, 2, 6, 0, 3, 0],\n",
    "                 [6, 0, 2, 0, 0, 3],\n",
    "                 [0, 4, 4, 3, 0, 0]])\n",
    "\n",
    "# calculate cosine similarity between original query and documents\n",
    "sim_weights = np.dot(docs, query) / (np.linalg.norm(docs, axis=1) * np.linalg.norm(query))\n",
    "\n",
    "# calculate cosine similarity between new query and documents\n",
    "new_sim_weights = np.dot(docs, new_query) / (np.linalg.norm(docs, axis=1) * np.linalg.norm(new_query))\n",
    "\n",
    "# print results\n",
    "print(\"Original query: \", query)\n",
    "print(\"New query: \", new_query)\n",
    "print(\"Similarity weights between original query and documents: \", sim_weights)\n",
    "print(\"Similarity weights between new query and documents: \", new_sim_weights)\n"
   ]
  }
 ],
 "metadata": {
  "kernelspec": {
   "display_name": "my_env",
   "language": "python",
   "name": "python3"
  },
  "language_info": {
   "codemirror_mode": {
    "name": "ipython",
    "version": 3
   },
   "file_extension": ".py",
   "mimetype": "text/x-python",
   "name": "python",
   "nbconvert_exporter": "python",
   "pygments_lexer": "ipython3",
   "version": "3.10.4"
  },
  "orig_nbformat": 4
 },
 "nbformat": 4,
 "nbformat_minor": 2
}
